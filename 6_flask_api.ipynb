{
 "cells": [
  {
   "cell_type": "code",
   "execution_count": null,
   "id": "cffc06f3",
   "metadata": {},
   "outputs": [
    {
     "name": "stdout",
     "output_type": "stream",
     "text": [
      " * Serving Flask app '__main__'\n",
      " * Debug mode: off\n"
     ]
    },
    {
     "name": "stderr",
     "output_type": "stream",
     "text": [
      "WARNING: This is a development server. Do not use it in a production deployment. Use a production WSGI server instead.\n",
      " * Running on all addresses (0.0.0.0)\n",
      " * Running on http://127.0.0.1:5000\n",
      " * Running on http://192.168.1.30:5000\n",
      "Press CTRL+C to quit\n",
      "192.168.1.30 - - [23/Apr/2025 01:10:39] \"GET / HTTP/1.1\" 404 -\n",
      "192.168.1.30 - - [23/Apr/2025 01:10:39] \"GET /favicon.ico HTTP/1.1\" 404 -\n"
     ]
    }
   ],
   "source": [
    "from flask import Flask, request, jsonify\n",
    "import numpy as np\n",
    "import pickle\n",
    "\n",
    "app = Flask(__name__)\n",
    "\n",
    "model = pickle.load(open(\"model.pkl\", \"rb\"))\n",
    "scaler = pickle.load(open(\"scaler.pkl\", \"rb\"))\n",
    "\n",
    "@app.route(\"/predict\", methods=[\"POST\"])\n",
    "def predict():\n",
    "    data = request.get_json(force=True)\n",
    "    input_data = [\n",
    "        data.get(\"cement\", 300),\n",
    "        data.get(\"slag\", 50),\n",
    "        data.get(\"fly_ash\", 30),\n",
    "        data.get(\"water\", 160),\n",
    "        data.get(\"superplasticizer\", 5),\n",
    "        data.get(\"coarse_agg\", 1000),\n",
    "        data.get(\"fine_agg\", 600),\n",
    "        data.get(\"age\", 28)\n",
    "    ]\n",
    "    scaled_input = scaler.transform([input_data])\n",
    "    prediction = model.predict(scaled_input)\n",
    "    return jsonify({\"predicted_strength\": round(float(prediction[0]), 2)})\n",
    "\n",
    "if __name__ == \"__main__\":\n",
    "    app.run(host=\"0.0.0.0\", port=5000)"
   ]
  },
  {
   "cell_type": "code",
   "execution_count": null,
   "id": "cd010fc7-5de6-456d-b5b5-d05bb6a9d62e",
   "metadata": {},
   "outputs": [],
   "source": []
  }
 ],
 "metadata": {
  "kernelspec": {
   "display_name": "Python 3 (ipykernel)",
   "language": "python",
   "name": "python3"
  },
  "language_info": {
   "codemirror_mode": {
    "name": "ipython",
    "version": 3
   },
   "file_extension": ".py",
   "mimetype": "text/x-python",
   "name": "python",
   "nbconvert_exporter": "python",
   "pygments_lexer": "ipython3",
   "version": "3.12.1"
  }
 },
 "nbformat": 4,
 "nbformat_minor": 5
}
